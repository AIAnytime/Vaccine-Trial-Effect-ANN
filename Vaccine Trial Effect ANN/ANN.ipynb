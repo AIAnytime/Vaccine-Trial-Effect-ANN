{
 "cells": [
  {
   "cell_type": "code",
   "execution_count": 1,
   "id": "horizontal-music",
   "metadata": {},
   "outputs": [],
   "source": [
    "import tensorflow as tf\n",
    "from tensorflow import keras"
   ]
  },
  {
   "cell_type": "code",
   "execution_count": 3,
   "id": "resident-october",
   "metadata": {},
   "outputs": [
    {
     "name": "stdout",
     "output_type": "stream",
     "text": [
      "GPU Available:  1\n"
     ]
    }
   ],
   "source": [
    "gpu_device = tf.config.experimental.list_physical_devices('GPU')\n",
    "print('GPU Available: ', len(gpu_device))\n",
    "tf.config.experimental.set_memory_growth(gpu_device[0], True)"
   ]
  },
  {
   "cell_type": "markdown",
   "id": "advance-medium",
   "metadata": {},
   "source": [
    "## We will use a simple Vaccine Side effect problem on 5000+ random samples to see side effect or no side effect."
   ]
  },
  {
   "cell_type": "markdown",
   "id": "technical-malawi",
   "metadata": {},
   "source": [
    "A vaccine is tested on 5250 people:\n",
    "- Age between 10 to 90.\n",
    "- The individuals split between two groups i.e. one between 10 to 50 and second 51 to 90\n",
    "- 95% in group 1 had no side effects\n",
    "- 95% in group2 had side effects\n",
    "473/473 - 2s - loss: 0.2277 - accuracy: 0.9481 - val_loss: 0.1818 - val_accuracy: 0.9543\n",
    "Epoch 9/15\n",
    "473/473 - 2s - loss: 0.2277 - accuracy: 0.9507 - val_loss: 0.1812 - val_accuracy: 0.9619\n",
    "Epoch 10/15\n",
    "473/473 - 2s - loss: 0.2272 - accuracy: 0.9513 - val_loss: 0.1810 - val_accuracy: 0.9619\n",
    "Epoch 11/15\n",
    "473/473 - 2s - loss: 0.2267 - accuracy: 0.9494 - val_loss: 0.1804 - val_accuracy: 0.9619"
   ]
  },
  {
   "cell_type": "code",
   "execution_count": 5,
   "id": "attractive-restriction",
   "metadata": {},
   "outputs": [],
   "source": [
    "#import packages for creating random samples\n",
    "import numpy as np\n",
    "from random import randint\n",
    "from sklearn.utils import shuffle\n",
    "from sklearn.preprocessing import MinMaxScaler"
   ]
  },
  {
   "cell_type": "code",
   "execution_count": 7,
   "id": "institutional-lincoln",
   "metadata": {},
   "outputs": [],
   "source": [
    "training_set = []\n",
    "training_labels = []\n",
    "\n",
    "for i in range(125):\n",
    "    random_under50 = randint(10,50)\n",
    "    training_set.append(random_under50)\n",
    "    training_labels.append(1)\n",
    "    \n",
    "    random_over50 = randint(51,90)\n",
    "    training_set.append(random_over50)\n",
    "    training_labels.append(0)\n",
    "    \n",
    "for i in range(2500):\n",
    "    random_under50 = randint(10,50)\n",
    "    training_set.append(random_under50)\n",
    "    training_labels.append(0)\n",
    "    \n",
    "    random_over50 = randint(51,90)\n",
    "    training_set.append(random_over50)\n",
    "    training_labels.append(1)"
   ]
  },
  {
   "cell_type": "code",
   "execution_count": 8,
   "id": "alone-continuity",
   "metadata": {},
   "outputs": [],
   "source": [
    "training_labels = np.array(training_labels)\n",
    "training_set = np.array(training_set)\n",
    "training_labels, training_set = shuffle(training_labels, training_set)"
   ]
  },
  {
   "cell_type": "code",
   "execution_count": 9,
   "id": "optimum-translator",
   "metadata": {},
   "outputs": [
    {
     "name": "stdout",
     "output_type": "stream",
     "text": [
      "[71 84 42 ... 66 43 55]\n"
     ]
    }
   ],
   "source": [
    "print(training_set)"
   ]
  },
  {
   "cell_type": "code",
   "execution_count": 10,
   "id": "complimentary-article",
   "metadata": {},
   "outputs": [
    {
     "name": "stdout",
     "output_type": "stream",
     "text": [
      "[1 1 0 ... 1 0 1]\n"
     ]
    }
   ],
   "source": [
    "print(training_labels)"
   ]
  },
  {
   "cell_type": "code",
   "execution_count": 12,
   "id": "acknowledged-calgary",
   "metadata": {},
   "outputs": [],
   "source": [
    "scaler = MinMaxScaler(feature_range = (0,1))\n",
    "scaled_training_set = scaler.fit_transform(training_set.reshape(-1,1))"
   ]
  },
  {
   "cell_type": "code",
   "execution_count": 13,
   "id": "pressed-heavy",
   "metadata": {},
   "outputs": [
    {
     "data": {
      "text/plain": [
       "array([[0.7625],\n",
       "       [0.925 ],\n",
       "       [0.4   ],\n",
       "       ...,\n",
       "       [0.7   ],\n",
       "       [0.4125],\n",
       "       [0.5625]])"
      ]
     },
     "execution_count": 13,
     "metadata": {},
     "output_type": "execute_result"
    }
   ],
   "source": [
    "scaled_training_set"
   ]
  },
  {
   "cell_type": "markdown",
   "id": "shaped-character",
   "metadata": {},
   "source": [
    "## Creating an Artificial Neural Net \n",
    "- We will use a Sequential Model and keep on adding layers\n",
    "- 4 layers i.e. 1 input layer, 2 hidden layer, and 1 output layer"
   ]
  },
  {
   "cell_type": "code",
   "execution_count": 14,
   "id": "heavy-greene",
   "metadata": {},
   "outputs": [],
   "source": [
    "from keras.models import Sequential\n",
    "from keras.layers import Dense, Activation\n",
    "from keras.optimizers import Adam\n",
    "from keras.metrics import categorical_crossentropy"
   ]
  },
  {
   "cell_type": "code",
   "execution_count": 15,
   "id": "alike-forge",
   "metadata": {},
   "outputs": [],
   "source": [
    "model = Sequential()\n",
    "model.add(Dense(12, input_shape=(1,), activation='relu'))\n",
    "model.add(Dense(24, activation='relu'))\n",
    "model.add(Dense(12, activation='relu'))\n",
    "model.add(Dense(2, activation='softmax'))"
   ]
  },
  {
   "cell_type": "code",
   "execution_count": 16,
   "id": "israeli-converter",
   "metadata": {},
   "outputs": [
    {
     "name": "stdout",
     "output_type": "stream",
     "text": [
      "Model: \"sequential\"\n",
      "_________________________________________________________________\n",
      "Layer (type)                 Output Shape              Param #   \n",
      "=================================================================\n",
      "dense (Dense)                (None, 12)                24        \n",
      "_________________________________________________________________\n",
      "dense_1 (Dense)              (None, 24)                312       \n",
      "_________________________________________________________________\n",
      "dense_2 (Dense)              (None, 12)                300       \n",
      "_________________________________________________________________\n",
      "dense_3 (Dense)              (None, 2)                 26        \n",
      "=================================================================\n",
      "Total params: 662\n",
      "Trainable params: 662\n",
      "Non-trainable params: 0\n",
      "_________________________________________________________________\n"
     ]
    }
   ],
   "source": [
    "model.summary()"
   ]
  },
  {
   "cell_type": "code",
   "execution_count": 17,
   "id": "second-characteristic",
   "metadata": {},
   "outputs": [],
   "source": [
    "#Compile the model\n",
    "model.compile(optimizer=Adam(learning_rate=0.0001), loss='sparse_categorical_crossentropy', metrics=['accuracy'])"
   ]
  },
  {
   "cell_type": "code",
   "execution_count": 20,
   "id": "disciplinary-level",
   "metadata": {},
   "outputs": [
    {
     "name": "stdout",
     "output_type": "stream",
     "text": [
      "Epoch 1/30\n",
      "473/473 - 3s - loss: 0.2248 - accuracy: 0.9503 - val_loss: 0.1804 - val_accuracy: 0.9486\n",
      "Epoch 2/30\n",
      "473/473 - 2s - loss: 0.2243 - accuracy: 0.9490 - val_loss: 0.1792 - val_accuracy: 0.9619\n",
      "Epoch 3/30\n",
      "473/473 - 2s - loss: 0.2243 - accuracy: 0.9496 - val_loss: 0.1786 - val_accuracy: 0.9619\n",
      "Epoch 4/30\n",
      "473/473 - 2s - loss: 0.2239 - accuracy: 0.9513 - val_loss: 0.1783 - val_accuracy: 0.9619\n",
      "Epoch 5/30\n",
      "473/473 - 2s - loss: 0.2235 - accuracy: 0.9501 - val_loss: 0.1779 - val_accuracy: 0.9619\n",
      "Epoch 6/30\n",
      "473/473 - 2s - loss: 0.2230 - accuracy: 0.9513 - val_loss: 0.1778 - val_accuracy: 0.9619\n",
      "Epoch 7/30\n",
      "473/473 - 2s - loss: 0.2227 - accuracy: 0.9513 - val_loss: 0.1786 - val_accuracy: 0.9486\n",
      "Epoch 8/30\n",
      "473/473 - 2s - loss: 0.2225 - accuracy: 0.9511 - val_loss: 0.1775 - val_accuracy: 0.9619\n",
      "Epoch 9/30\n",
      "473/473 - 2s - loss: 0.2221 - accuracy: 0.9513 - val_loss: 0.1770 - val_accuracy: 0.9619\n",
      "Epoch 10/30\n",
      "473/473 - 2s - loss: 0.2219 - accuracy: 0.9513 - val_loss: 0.1771 - val_accuracy: 0.9619\n",
      "Epoch 11/30\n",
      "473/473 - 2s - loss: 0.2215 - accuracy: 0.9513 - val_loss: 0.1771 - val_accuracy: 0.9619\n",
      "Epoch 12/30\n",
      "473/473 - 2s - loss: 0.2212 - accuracy: 0.9513 - val_loss: 0.1771 - val_accuracy: 0.9619\n",
      "Epoch 13/30\n",
      "473/473 - 2s - loss: 0.2208 - accuracy: 0.9513 - val_loss: 0.1768 - val_accuracy: 0.9619\n",
      "Epoch 14/30\n",
      "473/473 - 2s - loss: 0.2206 - accuracy: 0.9505 - val_loss: 0.1760 - val_accuracy: 0.9619\n",
      "Epoch 15/30\n",
      "473/473 - 3s - loss: 0.2203 - accuracy: 0.9513 - val_loss: 0.1759 - val_accuracy: 0.9619\n",
      "Epoch 16/30\n",
      "473/473 - 3s - loss: 0.2201 - accuracy: 0.9507 - val_loss: 0.1757 - val_accuracy: 0.9619\n",
      "Epoch 17/30\n",
      "473/473 - 3s - loss: 0.2197 - accuracy: 0.9513 - val_loss: 0.1760 - val_accuracy: 0.9619\n",
      "Epoch 18/30\n",
      "473/473 - 3s - loss: 0.2193 - accuracy: 0.9505 - val_loss: 0.1763 - val_accuracy: 0.9486\n",
      "Epoch 19/30\n",
      "473/473 - 3s - loss: 0.2192 - accuracy: 0.9513 - val_loss: 0.1749 - val_accuracy: 0.9619\n",
      "Epoch 20/30\n",
      "473/473 - 2s - loss: 0.2186 - accuracy: 0.9507 - val_loss: 0.1755 - val_accuracy: 0.9619\n",
      "Epoch 21/30\n",
      "473/473 - 2s - loss: 0.2186 - accuracy: 0.9513 - val_loss: 0.1746 - val_accuracy: 0.9619\n",
      "Epoch 22/30\n",
      "473/473 - 2s - loss: 0.2179 - accuracy: 0.9496 - val_loss: 0.1752 - val_accuracy: 0.9619\n",
      "Epoch 23/30\n",
      "473/473 - 1s - loss: 0.2180 - accuracy: 0.9513 - val_loss: 0.1749 - val_accuracy: 0.9619\n",
      "Epoch 24/30\n",
      "473/473 - 1s - loss: 0.2177 - accuracy: 0.9513 - val_loss: 0.1743 - val_accuracy: 0.9619\n",
      "Epoch 25/30\n",
      "473/473 - 2s - loss: 0.2173 - accuracy: 0.9511 - val_loss: 0.1741 - val_accuracy: 0.9619\n",
      "Epoch 26/30\n",
      "473/473 - 2s - loss: 0.2172 - accuracy: 0.9513 - val_loss: 0.1743 - val_accuracy: 0.9619\n",
      "Epoch 27/30\n",
      "473/473 - 1s - loss: 0.2170 - accuracy: 0.9513 - val_loss: 0.1742 - val_accuracy: 0.9619\n",
      "Epoch 28/30\n",
      "473/473 - 2s - loss: 0.2165 - accuracy: 0.9507 - val_loss: 0.1737 - val_accuracy: 0.9619\n",
      "Epoch 29/30\n",
      "473/473 - 2s - loss: 0.2160 - accuracy: 0.9505 - val_loss: 0.1749 - val_accuracy: 0.9486\n",
      "Epoch 30/30\n",
      "473/473 - 2s - loss: 0.2161 - accuracy: 0.9498 - val_loss: 0.1733 - val_accuracy: 0.9619\n"
     ]
    },
    {
     "data": {
      "text/plain": [
       "<tensorflow.python.keras.callbacks.History at 0x7f79d8439af0>"
      ]
     },
     "execution_count": 20,
     "metadata": {},
     "output_type": "execute_result"
    }
   ],
   "source": [
    "#fit the model\n",
    "model.fit(x=scaled_training_set, y=training_labels, validation_split=0.1, batch_size=10, epochs=30, shuffle=True,\n",
    "         verbose=2)"
   ]
  },
  {
   "cell_type": "markdown",
   "id": "advance-height",
   "metadata": {},
   "source": [
    "#### Test data to see the performance of the model"
   ]
  },
  {
   "cell_type": "code",
   "execution_count": 22,
   "id": "impaired-equity",
   "metadata": {},
   "outputs": [],
   "source": [
    "test_set = []\n",
    "test_labels = []\n",
    "\n",
    "for i in range(25):\n",
    "    random_under50 = randint(10,50)\n",
    "    test_set.append(random_under50)\n",
    "    test_labels.append(1)\n",
    "    \n",
    "    random_over50 = randint(51,90)\n",
    "    test_set.append(random_over50)\n",
    "    test_labels.append(0)\n",
    "    \n",
    "for i in range(500):\n",
    "    random_under50 = randint(10,50)\n",
    "    test_set.append(random_under50)\n",
    "    test_labels.append(0)\n",
    "    \n",
    "    random_over50 = randint(51,90)\n",
    "    test_set.append(random_over50)\n",
    "    test_labels.append(1)"
   ]
  },
  {
   "cell_type": "code",
   "execution_count": 23,
   "id": "improved-disposition",
   "metadata": {},
   "outputs": [],
   "source": [
    "test_labels = np.array(test_labels)\n",
    "test_set = np.array(test_set)\n",
    "test_labels, test_set = shuffle(test_labels, test_set)"
   ]
  },
  {
   "cell_type": "code",
   "execution_count": 24,
   "id": "terminal-puppy",
   "metadata": {},
   "outputs": [
    {
     "name": "stdout",
     "output_type": "stream",
     "text": [
      "[33 47 84 ... 86 35 13]\n"
     ]
    }
   ],
   "source": [
    "print(test_set)"
   ]
  },
  {
   "cell_type": "code",
   "execution_count": 25,
   "id": "industrial-driver",
   "metadata": {},
   "outputs": [],
   "source": [
    "scaled_test_set = scaler.fit_transform(test_set.reshape(-1,1))"
   ]
  },
  {
   "cell_type": "code",
   "execution_count": 26,
   "id": "authorized-pursuit",
   "metadata": {},
   "outputs": [
    {
     "data": {
      "text/plain": [
       "array([[0.2875],\n",
       "       [0.4625],\n",
       "       [0.925 ],\n",
       "       ...,\n",
       "       [0.95  ],\n",
       "       [0.3125],\n",
       "       [0.0375]])"
      ]
     },
     "execution_count": 26,
     "metadata": {},
     "output_type": "execute_result"
    }
   ],
   "source": [
    "scaled_test_set"
   ]
  },
  {
   "cell_type": "code",
   "execution_count": 27,
   "id": "immune-intermediate",
   "metadata": {},
   "outputs": [],
   "source": [
    "predictions = model.predict(x=scaled_test_set, batch_size=10, verbose=0)"
   ]
  },
  {
   "cell_type": "code",
   "execution_count": 28,
   "id": "academic-dealing",
   "metadata": {},
   "outputs": [
    {
     "data": {
      "text/plain": [
       "array([[0.9550124 , 0.04498768],\n",
       "       [0.8961142 , 0.10388584],\n",
       "       [0.02287754, 0.9771224 ],\n",
       "       ...,\n",
       "       [0.02036722, 0.97963274],\n",
       "       [0.9545987 , 0.04540131],\n",
       "       [0.95318925, 0.04681074]], dtype=float32)"
      ]
     },
     "execution_count": 28,
     "metadata": {},
     "output_type": "execute_result"
    }
   ],
   "source": [
    "predictions"
   ]
  },
  {
   "cell_type": "code",
   "execution_count": 29,
   "id": "handy-delight",
   "metadata": {},
   "outputs": [],
   "source": [
    "rounded_predictions = np.argmax(predictions, axis=-1)"
   ]
  },
  {
   "cell_type": "code",
   "execution_count": 30,
   "id": "infrared-bosnia",
   "metadata": {},
   "outputs": [
    {
     "data": {
      "text/plain": [
       "array([0, 0, 1, ..., 1, 0, 0])"
      ]
     },
     "execution_count": 30,
     "metadata": {},
     "output_type": "execute_result"
    }
   ],
   "source": [
    "rounded_predictions"
   ]
  },
  {
   "cell_type": "markdown",
   "id": "married-honor",
   "metadata": {},
   "source": [
    "####  Visualize the confusion matrix"
   ]
  },
  {
   "cell_type": "code",
   "execution_count": 31,
   "id": "appropriate-double",
   "metadata": {},
   "outputs": [],
   "source": [
    "from sklearn.metrics import confusion_matrix\n",
    "import itertools\n",
    "import matplotlib.pyplot as plt"
   ]
  },
  {
   "cell_type": "code",
   "execution_count": 32,
   "id": "suspended-motel",
   "metadata": {},
   "outputs": [],
   "source": [
    "cm = confusion_matrix(y_true=test_labels, y_pred=rounded_predictions)"
   ]
  },
  {
   "cell_type": "code",
   "execution_count": 35,
   "id": "promising-elevation",
   "metadata": {},
   "outputs": [],
   "source": [
    "def plot_confusion_matrix(cm, classes, normalize=False, title=\"Confusion matrix\", cmap=plt.cm.Blues):\n",
    "    plt.imshow(cm, interpolation='nearest', cmap=cmap)\n",
    "    plt.title(title)\n",
    "    plt.colorbar()\n",
    "    tick_marks = np.arange(len(classes))\n",
    "    plt.xticks(tick_marks, classes, rotation=45)\n",
    "    plt.yticks(tick_marks, classes)\n",
    "    \n",
    "    if normalize:\n",
    "        cm = cm.astype('float') / cm.sum(axis=1)[:, np.newaxis]\n",
    "        print(\"Normalized Confusion Matrix\")\n",
    "    else:\n",
    "        print(\"Confusion Matrix without Normalization\")\n",
    "    print(cm)\n",
    "    \n",
    "    thresh = cm.max() / 2.0\n",
    "    \n",
    "    for i, j in itertools.product(range(cm.shape[0]), range(cm.shape[1])):\n",
    "        plt.text(j, i, cm[i,j], horizontalalignment=\"center\", color=\"white\" if cm[i,j] > thresh else \"black\")\n",
    "    plt.tight_layout()\n",
    "    plt.xlabel('Predicted label')\n",
    "    plt.ylabel('True label')     "
   ]
  },
  {
   "cell_type": "code",
   "execution_count": 36,
   "id": "assumed-designer",
   "metadata": {},
   "outputs": [
    {
     "name": "stdout",
     "output_type": "stream",
     "text": [
      "Confusion Matrix without Normalization\n",
      "[[500  25]\n",
      " [ 25 500]]\n"
     ]
    },
    {
     "data": {
      "image/png": "[encoded data removed]",
      "text/plain": [
       "<Figure size 432x288 with 2 Axes>"
      ]
     },
     "metadata": {
      "needs_background": "light"
     },
     "output_type": "display_data"
    }
   ],
   "source": [
    "cm_plot_labels = ['no_side_effects', 'had_side_effects']\n",
    "plot_confusion_matrix(cm=cm, classes=cm_plot_labels)"
   ]
  },
  {
   "cell_type": "code",
   "execution_count": 37,
   "id": "vanilla-burke",
   "metadata": {},
   "outputs": [
    {
     "name": "stdout",
     "output_type": "stream",
     "text": [
      "Model Saved!\n"
     ]
    }
   ],
   "source": [
    "import os.path\n",
    "if os.path.isfile('trial_model.h5') is False:\n",
    "    model.save('trial_model.h5')\n",
    "    print(\"Model Saved!\")"
   ]
  },
  {
   "cell_type": "code",
   "execution_count": 39,
   "id": "light-ghana",
   "metadata": {},
   "outputs": [],
   "source": [
    "from tensorflow.keras.models import load_model\n",
    "new_model = load_model('trial_model.h5')"
   ]
  },
  {
   "cell_type": "code",
   "execution_count": 40,
   "id": "precise-archive",
   "metadata": {},
   "outputs": [
    {
     "name": "stdout",
     "output_type": "stream",
     "text": [
      "Model: \"sequential\"\n",
      "_________________________________________________________________\n",
      "Layer (type)                 Output Shape              Param #   \n",
      "=================================================================\n",
      "dense (Dense)                (None, 12)                24        \n",
      "_________________________________________________________________\n",
      "dense_1 (Dense)              (None, 24)                312       \n",
      "_________________________________________________________________\n",
      "dense_2 (Dense)              (None, 12)                300       \n",
      "_________________________________________________________________\n",
      "dense_3 (Dense)              (None, 2)                 26        \n",
      "=================================================================\n",
      "Total params: 662\n",
      "Trainable params: 662\n",
      "Non-trainable params: 0\n",
      "_________________________________________________________________\n"
     ]
    }
   ],
   "source": [
    "new_model.summary()"
   ]
  },
  {
   "cell_type": "code",
   "execution_count": 41,
   "id": "associate-worship",
   "metadata": {},
   "outputs": [
    {
     "data": {
      "text/plain": [
       "[array([[-0.6464184 , -0.6314443 , -0.4937517 ,  0.39794135, -0.6464022 ,\n",
       "          0.82048583, -0.5461463 , -0.26788673,  0.47927082,  0.09782773,\n",
       "          0.52646613,  0.28462574]], dtype=float32),\n",
       " array([ 0.        ,  0.        ,  0.        , -0.0268476 ,  0.        ,\n",
       "        -0.12436428,  0.        ,  0.        , -0.16217782,  0.1866475 ,\n",
       "        -0.19826376, -0.12816918], dtype=float32),\n",
       " array([[-1.39117420e-01, -2.67854065e-01, -1.00076377e-01,\n",
       "         -3.43536109e-01,  2.92629659e-01,  2.51765430e-01,\n",
       "         -3.65966618e-01, -2.61321485e-01, -3.82579595e-01,\n",
       "          3.63287807e-01, -3.88373882e-01,  8.81500244e-02,\n",
       "         -2.69805014e-01, -2.77388692e-01,  3.31559777e-03,\n",
       "          5.08644879e-02, -8.69101882e-02, -1.94960445e-01,\n",
       "         -4.36192751e-03, -5.20947874e-02,  3.49299550e-01,\n",
       "          3.07099342e-01,  2.79424131e-01,  3.59661341e-01],\n",
       "        [ 3.35463405e-01,  3.30983341e-01,  3.99017513e-01,\n",
       "          3.85630786e-01, -4.78858948e-02, -3.45247805e-01,\n",
       "         -1.93603516e-01,  2.06845105e-01, -6.31192327e-03,\n",
       "         -2.76630163e-01,  3.40118706e-01, -3.64828497e-01,\n",
       "          1.05596364e-01, -3.07558537e-01,  1.35293961e-01,\n",
       "          2.04024971e-01,  1.05684996e-03, -3.54267865e-01,\n",
       "          2.27554142e-02, -1.12372190e-01,  2.97933578e-01,\n",
       "         -5.20121753e-02,  1.34468555e-01,  3.12910736e-01],\n",
       "        [ 1.17077708e-01, -1.37978703e-01, -2.13708535e-01,\n",
       "          3.84388268e-01,  1.35061204e-01,  3.80252123e-01,\n",
       "         -4.27064598e-02, -3.88605326e-01,  2.25301683e-01,\n",
       "          3.83312583e-01,  3.65102708e-01, -1.88422725e-01,\n",
       "          2.25987494e-01,  3.42201054e-01, -1.88587606e-02,\n",
       "         -3.97269905e-01,  3.13960791e-01,  3.68499756e-01,\n",
       "          2.75437653e-01, -3.65215778e-01, -1.98324993e-01,\n",
       "         -1.45926028e-01, -3.37092876e-02,  2.80252635e-01],\n",
       "        [-2.86041111e-01, -2.88990527e-01,  3.77052039e-01,\n",
       "         -1.42261043e-01,  2.42669769e-02,  2.06591725e-01,\n",
       "         -2.14515820e-01,  3.38893414e-01,  4.22634751e-01,\n",
       "          1.16420090e-01,  5.09936750e-01,  2.90615618e-01,\n",
       "          3.24347913e-01, -2.44849220e-01, -1.62555054e-01,\n",
       "         -1.85913354e-01,  3.65876704e-02,  2.15142757e-01,\n",
       "          2.40628675e-01, -7.76923597e-02, -2.02395111e-01,\n",
       "         -4.47207779e-01,  3.00479289e-02, -4.03422356e-01],\n",
       "        [-2.19884381e-01,  3.46278012e-01, -2.79977798e-01,\n",
       "          8.93477201e-02,  2.46798396e-01, -3.15427780e-01,\n",
       "          9.30204988e-02,  2.77167976e-01, -1.64006680e-01,\n",
       "          2.83647656e-01, -3.26720595e-01, -1.69313341e-01,\n",
       "          1.48514509e-01, -8.19264054e-02,  1.66138768e-01,\n",
       "         -5.50254285e-02, -3.03361297e-01,  2.40361214e-01,\n",
       "          2.85906792e-02,  2.40608156e-01, -2.62446672e-01,\n",
       "         -2.48211771e-01,  3.77931297e-02, -5.10828197e-02],\n",
       "        [-2.74515212e-01,  1.46269739e-01,  2.98954278e-01,\n",
       "          2.66385347e-01,  4.79464412e-01, -3.10785085e-01,\n",
       "         -2.34192759e-01, -4.91915256e-01,  1.89675584e-01,\n",
       "          2.43568420e-03,  1.80338994e-01,  1.68962687e-01,\n",
       "          4.51837033e-01, -3.49361718e-01, -3.57004702e-01,\n",
       "         -2.15593874e-02, -5.28062165e-01,  6.84421510e-03,\n",
       "         -5.30320406e-01, -1.18822992e-01, -3.04788530e-01,\n",
       "          7.98823237e-02,  6.08270586e-01,  9.83110964e-02],\n",
       "        [ 1.84629858e-02,  1.99940085e-01, -2.85841763e-01,\n",
       "          2.51348734e-01,  6.44191206e-02,  3.91044736e-01,\n",
       "         -2.21438602e-01,  1.28910124e-01,  1.34320617e-01,\n",
       "         -3.84782046e-01,  8.70987177e-02, -2.88503766e-01,\n",
       "          1.64121926e-01,  9.95707512e-03,  8.53695869e-02,\n",
       "         -2.54532039e-01,  3.33566785e-01,  2.10544765e-01,\n",
       "         -2.91583300e-01, -3.89323354e-01, -2.28426114e-01,\n",
       "          2.97044933e-01, -4.06372279e-01, -3.65256071e-01],\n",
       "        [ 3.23478460e-01, -2.10234776e-01, -2.45284945e-01,\n",
       "          7.36317039e-02, -1.65649787e-01,  2.87822545e-01,\n",
       "          3.38829637e-01,  2.27541566e-01, -8.90011191e-02,\n",
       "         -2.46724606e-01, -5.77467978e-02,  9.04908180e-02,\n",
       "         -2.45256424e-01, -3.89449209e-01,  1.36149824e-01,\n",
       "         -2.38328189e-01, -1.59501582e-01,  3.30705047e-01,\n",
       "         -8.65633786e-02, -3.59801769e-01,  2.48365104e-01,\n",
       "         -6.10548854e-02, -3.33623022e-01,  3.99566591e-01],\n",
       "        [-4.88304764e-01, -3.25444430e-01,  9.58842635e-02,\n",
       "          4.81897235e-01,  1.87101930e-01, -3.68533866e-03,\n",
       "         -2.86083758e-01, -6.95510626e-01,  1.84630215e-01,\n",
       "         -1.63887262e-01,  6.13952160e-01,  2.86460340e-01,\n",
       "          4.17327344e-01, -2.75201231e-01, -4.01843429e-01,\n",
       "         -4.03885007e-01, -2.11242467e-01,  8.82500336e-02,\n",
       "         -4.03968036e-01,  1.56430125e-01, -1.72929466e-02,\n",
       "         -7.36399412e-01, -2.46515386e-02,  3.39667290e-01],\n",
       "        [ 2.11345673e-01, -3.11232597e-01,  1.27846599e-01,\n",
       "          9.85612348e-02,  3.71061414e-01,  9.76512060e-02,\n",
       "         -2.65496641e-01,  3.09072226e-01,  2.85911746e-02,\n",
       "         -2.89052337e-01, -1.39429525e-01, -2.06723493e-02,\n",
       "         -1.70859620e-01,  4.09639478e-01, -2.56355226e-01,\n",
       "         -1.21327966e-01,  3.16973001e-01,  3.05047989e-01,\n",
       "          3.87891084e-01, -3.08405936e-01, -3.02166998e-01,\n",
       "          2.08492517e-01, -2.48113513e-01, -9.71961915e-02],\n",
       "        [-4.37386632e-01, -1.99565709e-01,  5.51697969e-01,\n",
       "          5.62229991e-01,  5.27345896e-01,  1.98378205e-01,\n",
       "          1.42987132e-01, -6.45113885e-01, -5.37922382e-01,\n",
       "          9.73263383e-03,  1.11896172e-01,  2.75057822e-01,\n",
       "          5.31683981e-01, -4.54550654e-01,  3.45384479e-01,\n",
       "         -3.66420865e-01, -4.90243793e-01,  6.46192953e-02,\n",
       "         -7.44948328e-01,  1.29572630e-01, -1.61367580e-01,\n",
       "         -6.67390764e-01,  6.57547057e-01, -1.77617773e-01],\n",
       "        [-3.65923524e-01, -1.11471444e-01,  5.95581055e-01,\n",
       "          7.35432625e-01,  3.67752880e-01, -1.36494813e-02,\n",
       "         -2.07917646e-01, -7.68175900e-01, -4.49633896e-01,\n",
       "         -1.00686371e-01,  3.46238285e-01, -9.67695117e-02,\n",
       "          2.89599925e-01, -7.23042250e-01,  3.23793054e-01,\n",
       "          1.35228932e-01, -1.14729774e+00,  2.78164595e-01,\n",
       "         -5.99162459e-01,  2.15149164e-01, -2.19215780e-01,\n",
       "         -9.04335082e-01,  6.67438388e-01,  3.38012516e-01]], dtype=float32),\n",
       " array([ 0.11186393,  0.        , -0.19555856, -0.12312195,  0.2094097 ,\n",
       "        -0.03423771,  0.        ,  0.17645666,  0.21141608,  0.        ,\n",
       "        -0.13232732,  0.16276577, -0.14906009,  0.07015482,  0.        ,\n",
       "         0.        ,  0.18445115,  0.20505683,  0.15915234,  0.        ,\n",
       "         0.        ,  0.17034441, -0.13069233, -0.00706166], dtype=float32),\n",
       " array([[-1.51178345e-01, -3.20384651e-01,  2.64648232e-04,\n",
       "          1.27736270e-01,  1.03508905e-01, -3.73601705e-01,\n",
       "         -2.94670761e-01,  2.52563328e-01, -7.78293982e-02,\n",
       "         -2.02368990e-01, -2.97400713e-01, -4.03785229e-01],\n",
       "        [ 1.47235096e-02,  3.25086534e-01,  3.70475233e-01,\n",
       "          3.01196516e-01, -8.41129124e-02,  3.04639816e-01,\n",
       "         -2.91535705e-01, -3.52630317e-01,  2.90980339e-01,\n",
       "          1.74176455e-01,  2.77342856e-01, -3.71520013e-01],\n",
       "        [ 2.54411280e-01,  3.42633754e-01, -9.57121193e-01,\n",
       "         -3.04830253e-01, -2.93956608e-01, -2.86755085e-01,\n",
       "         -5.17843962e-02, -3.66500802e-02, -1.42998219e-01,\n",
       "         -9.87929821e-01, -1.13782287e-01, -1.07379925e+00],\n",
       "        [ 4.45438832e-01,  3.75772966e-03, -3.60449463e-01,\n",
       "         -1.82889864e-01, -3.59533340e-01,  3.70964974e-01,\n",
       "         -3.88542444e-01,  1.94756120e-01,  3.99153262e-01,\n",
       "         -1.00629961e+00,  2.26156265e-01, -7.88586199e-01],\n",
       "        [ 2.95699209e-01,  5.71220696e-01,  2.92436391e-01,\n",
       "         -1.53568894e-01,  2.99968719e-02,  1.09698035e-01,\n",
       "          5.78498542e-02, -3.76384199e-01,  3.82281303e-01,\n",
       "          4.94756550e-03,  1.76209956e-01,  1.61467772e-02],\n",
       "        [ 1.21882357e-01,  2.20182717e-01,  1.44965183e-02,\n",
       "         -2.61193305e-01,  3.35588276e-01,  3.69234383e-01,\n",
       "          8.59652758e-02, -2.25064680e-01,  6.95625693e-02,\n",
       "         -1.76457912e-02, -2.82297254e-01,  2.04824172e-02],\n",
       "        [ 3.90083492e-02,  5.38803041e-02, -2.63039529e-01,\n",
       "          5.21635115e-02, -2.99180716e-01,  4.17967737e-02,\n",
       "          1.09599352e-01, -1.77207127e-01, -3.24876308e-01,\n",
       "         -2.44270042e-01, -5.58485687e-02, -2.54011989e-01],\n",
       "        [-6.88318372e-01, -1.37186038e+00,  3.05586725e-01,\n",
       "         -1.17837489e-01, -4.03265685e-01, -4.84155901e-02,\n",
       "         -1.66946277e-01, -4.22114171e-02, -7.81955183e-01,\n",
       "          6.07780159e-01,  4.20801133e-01,  6.44116640e-01],\n",
       "        [ 2.96010077e-01,  4.67296034e-01,  1.32896855e-01,\n",
       "          3.88660252e-01,  2.59880386e-02,  3.08607042e-01,\n",
       "         -1.66571930e-01,  7.56052285e-02,  2.95839190e-01,\n",
       "          2.64511317e-01, -2.71884561e-01,  4.13111806e-01],\n",
       "        [-2.48239607e-01,  1.31022453e-01,  1.93643451e-01,\n",
       "         -3.87444049e-01, -3.73458505e-01, -2.98989832e-01,\n",
       "          3.27918351e-01,  2.47351229e-01, -1.05926692e-02,\n",
       "         -1.80273429e-01,  3.83912504e-01,  3.89309466e-01],\n",
       "        [ 2.63493717e-01,  3.58791977e-01, -8.89171720e-01,\n",
       "          3.18032563e-01,  3.45800042e-01,  1.12281434e-01,\n",
       "         -3.52201164e-02, -2.91980118e-01,  4.41775650e-01,\n",
       "         -9.07236040e-01,  4.47074473e-02, -1.10674155e+00],\n",
       "        [-2.30409846e-01,  4.31493074e-02, -5.73129468e-02,\n",
       "         -2.78739095e-01,  2.41051078e-01, -3.83558035e-01,\n",
       "         -1.10643148e-01, -2.19060406e-02,  4.58622575e-01,\n",
       "          1.28521398e-01,  1.39349356e-01,  1.38085887e-01],\n",
       "        [ 3.78773034e-01,  4.06642050e-01, -7.36273766e-01,\n",
       "          2.63050437e-01, -1.33137301e-01, -2.49442682e-01,\n",
       "          9.07629728e-02, -1.57549724e-01,  2.80874461e-01,\n",
       "         -4.70490813e-01, -2.88582742e-01, -5.81523657e-01],\n",
       "        [-5.68073630e-01, -1.89250365e-01, -5.50423980e-01,\n",
       "          3.00844550e-01,  1.46365082e-02, -2.75438428e-01,\n",
       "         -2.04782128e-01,  8.07615519e-02, -6.32174313e-01,\n",
       "         -3.84665787e-01, -4.10624266e-01, -2.68704176e-01],\n",
       "        [-3.37879062e-01, -2.01316550e-01,  1.56742632e-02,\n",
       "          1.60783947e-01, -4.75557148e-02, -2.19049439e-01,\n",
       "         -8.96530747e-02,  3.76976192e-01,  1.89511895e-01,\n",
       "         -1.26612127e-01, -3.03783119e-02, -3.87219310e-01],\n",
       "        [-3.79070580e-01, -1.57028615e-01,  4.39963341e-02,\n",
       "          7.90935755e-03,  2.04223454e-01, -3.67462635e-01,\n",
       "          2.18469918e-01, -1.93110138e-01, -1.06092781e-01,\n",
       "          2.53656566e-01,  3.06928515e-01, -2.19903931e-01],\n",
       "        [-1.26225567e+00, -1.20050621e+00,  1.99939534e-01,\n",
       "         -8.93060565e-02,  2.05106154e-01,  1.97705701e-01,\n",
       "         -3.02839786e-01, -5.91280032e-03, -1.31851959e+00,\n",
       "          7.47151256e-01,  6.36559367e-01,  1.20317526e-01],\n",
       "        [ 3.48728985e-01,  1.71374738e-01, -1.03127010e-01,\n",
       "         -2.21558034e-01, -2.95594066e-01,  2.38918159e-02,\n",
       "         -3.63935947e-01,  3.23099941e-02,  3.65227669e-01,\n",
       "          5.30180298e-02,  1.94234163e-01,  1.52933121e-01],\n",
       "        [-8.73749614e-01, -9.42083776e-01,  7.08929658e-01,\n",
       "         -3.92437071e-01,  3.17338735e-01, -2.50034153e-01,\n",
       "          2.88754404e-01,  2.68727839e-01, -1.51738966e+00,\n",
       "          1.95085779e-01,  4.53979410e-02,  3.12918037e-01],\n",
       "        [-1.99245781e-01, -3.77527565e-01, -1.45666420e-01,\n",
       "         -3.13496500e-01, -2.80435443e-01, -3.45206261e-01,\n",
       "          7.01161027e-02, -1.68448135e-01, -1.06538266e-01,\n",
       "          4.06138778e-01,  3.76774490e-01,  3.82649481e-01],\n",
       "        [-4.73482013e-02, -4.24900651e-03, -3.77133846e-01,\n",
       "          7.25924671e-02, -2.94145226e-01, -2.15689272e-01,\n",
       "         -3.76203626e-01, -1.02907509e-01,  2.52228439e-01,\n",
       "         -1.43471539e-01,  1.84930503e-01,  1.16259456e-02],\n",
       "        [-1.00095105e+00, -1.48126292e+00,  7.53509641e-01,\n",
       "         -4.03542608e-01, -2.21138105e-01,  5.32172509e-02,\n",
       "          1.54105663e-01, -7.07511604e-02, -1.29121590e+00,\n",
       "          3.98550659e-01,  5.16458213e-01,  4.97749478e-01],\n",
       "        [-3.05581868e-01,  2.27172807e-01, -9.42879617e-01,\n",
       "          3.66020083e-01,  3.27692538e-01, -3.54018867e-01,\n",
       "         -2.59253055e-01,  1.96346536e-01,  3.18155318e-01,\n",
       "         -9.98850763e-01,  1.69771388e-01, -9.67818856e-01],\n",
       "        [-1.74809754e-01,  9.04320274e-03,  1.89668134e-01,\n",
       "         -3.95925254e-01,  1.39771879e-01, -7.59813488e-02,\n",
       "          6.49968088e-02, -3.74789238e-02, -1.62658647e-01,\n",
       "         -3.83620083e-01, -7.33232200e-02,  1.92093834e-01]], dtype=float32),\n",
       " array([ 0.07297961,  0.05586793,  0.14423577,  0.        , -0.01583635,\n",
       "        -0.04648006,  0.        , -0.01246543,  0.02030225,  0.1711227 ,\n",
       "        -0.06710782,  0.10284647], dtype=float32),\n",
       " array([[-0.02452821,  0.46178994],\n",
       "        [-0.67947966,  0.27347472],\n",
       "        [ 0.34424263, -0.84469336],\n",
       "        [ 0.2083407 ,  0.48368716],\n",
       "        [ 0.5334946 , -0.02177205],\n",
       "        [-0.5898071 , -0.2862701 ],\n",
       "        [ 0.02157861,  0.53578115],\n",
       "        [-0.59121513, -0.52398866],\n",
       "        [-0.9426838 ,  0.41760227],\n",
       "        [ 0.8653866 , -0.96960735],\n",
       "        [ 0.5740929 ,  0.10017995],\n",
       "        [ 1.169545  , -1.0914571 ]], dtype=float32),\n",
       " array([-0.06460821,  0.0646082 ], dtype=float32)]"
      ]
     },
     "execution_count": 41,
     "metadata": {},
     "output_type": "execute_result"
    }
   ],
   "source": [
    "new_model.get_weights()"
   ]
  },
  {
   "cell_type": "code",
   "execution_count": 42,
   "id": "declared-motorcycle",
   "metadata": {},
   "outputs": [
    {
     "data": {
      "text/plain": [
       "<tensorflow.python.keras.optimizer_v2.adam.Adam at 0x7f797010f3a0>"
      ]
     },
     "execution_count": 42,
     "metadata": {},
     "output_type": "execute_result"
    }
   ],
   "source": [
    "new_model.optimizer"
   ]
  },
  {
   "cell_type": "code",
   "execution_count": 43,
   "id": "attached-layer",
   "metadata": {},
   "outputs": [],
   "source": [
    "json_string = model.to_json()"
   ]
  },
  {
   "cell_type": "code",
   "execution_count": 44,
   "id": "cleared-learning",
   "metadata": {},
   "outputs": [
    {
     "data": {
      "text/plain": [
       "'{\"class_name\": \"Sequential\", \"config\": {\"name\": \"sequential\", \"layers\": [{\"class_name\": \"Dense\", \"config\": {\"name\": \"dense\", \"trainable\": true, \"batch_input_shape\": [null, 1], \"dtype\": \"float32\", \"units\": 12, \"activation\": \"relu\", \"use_bias\": true, \"kernel_initializer\": {\"class_name\": \"GlorotUniform\", \"config\": {\"seed\": null}}, \"bias_initializer\": {\"class_name\": \"Zeros\", \"config\": {}}, \"kernel_regularizer\": null, \"bias_regularizer\": null, \"activity_regularizer\": null, \"kernel_constraint\": null, \"bias_constraint\": null}}, {\"class_name\": \"Dense\", \"config\": {\"name\": \"dense_1\", \"trainable\": true, \"dtype\": \"float32\", \"units\": 24, \"activation\": \"relu\", \"use_bias\": true, \"kernel_initializer\": {\"class_name\": \"GlorotUniform\", \"config\": {\"seed\": null}}, \"bias_initializer\": {\"class_name\": \"Zeros\", \"config\": {}}, \"kernel_regularizer\": null, \"bias_regularizer\": null, \"activity_regularizer\": null, \"kernel_constraint\": null, \"bias_constraint\": null}}, {\"class_name\": \"Dense\", \"config\": {\"name\": \"dense_2\", \"trainable\": true, \"dtype\": \"float32\", \"units\": 12, \"activation\": \"relu\", \"use_bias\": true, \"kernel_initializer\": {\"class_name\": \"GlorotUniform\", \"config\": {\"seed\": null}}, \"bias_initializer\": {\"class_name\": \"Zeros\", \"config\": {}}, \"kernel_regularizer\": null, \"bias_regularizer\": null, \"activity_regularizer\": null, \"kernel_constraint\": null, \"bias_constraint\": null}}, {\"class_name\": \"Dense\", \"config\": {\"name\": \"dense_3\", \"trainable\": true, \"dtype\": \"float32\", \"units\": 2, \"activation\": \"softmax\", \"use_bias\": true, \"kernel_initializer\": {\"class_name\": \"GlorotUniform\", \"config\": {\"seed\": null}}, \"bias_initializer\": {\"class_name\": \"Zeros\", \"config\": {}}, \"kernel_regularizer\": null, \"bias_regularizer\": null, \"activity_regularizer\": null, \"kernel_constraint\": null, \"bias_constraint\": null}}], \"build_input_shape\": [null, 1]}, \"keras_version\": \"2.3.0-tf\", \"backend\": \"tensorflow\"}'"
      ]
     },
     "execution_count": 44,
     "metadata": {},
     "output_type": "execute_result"
    }
   ],
   "source": [
    "json_string"
   ]
  },
  {
   "cell_type": "code",
   "execution_count": 45,
   "id": "aggressive-certification",
   "metadata": {},
   "outputs": [],
   "source": [
    "from tensorflow.keras.models import model_from_json\n",
    "model_architecture = model_from_json(json_string)"
   ]
  },
  {
   "cell_type": "code",
   "execution_count": 46,
   "id": "regular-michigan",
   "metadata": {},
   "outputs": [
    {
     "name": "stdout",
     "output_type": "stream",
     "text": [
      "Model: \"sequential\"\n",
      "_________________________________________________________________\n",
      "Layer (type)                 Output Shape              Param #   \n",
      "=================================================================\n",
      "dense (Dense)                (None, 12)                24        \n",
      "_________________________________________________________________\n",
      "dense_1 (Dense)              (None, 24)                312       \n",
      "_________________________________________________________________\n",
      "dense_2 (Dense)              (None, 12)                300       \n",
      "_________________________________________________________________\n",
      "dense_3 (Dense)              (None, 2)                 26        \n",
      "=================================================================\n",
      "Total params: 662\n",
      "Trainable params: 662\n",
      "Non-trainable params: 0\n",
      "_________________________________________________________________\n"
     ]
    }
   ],
   "source": [
    "\n",
    "model_architecture.summary()"
   ]
  },
  {
   "cell_type": "code",
   "execution_count": 47,
   "id": "sized-symphony",
   "metadata": {},
   "outputs": [
    {
     "name": "stdout",
     "output_type": "stream",
     "text": [
      "Model Saved!\n"
     ]
    }
   ],
   "source": [
    "\n",
    "import os.path\n",
    "if os.path.isfile('my_model_weights.h5') is False:\n",
    "    model.save_weights('my_model_weights.h5')\n",
    "    print(\"Model Saved!\")"
   ]
  },
  {
   "cell_type": "code",
   "execution_count": null,
   "id": "indie-airport",
   "metadata": {},
   "outputs": [],
   "source": []
  }
 ],
 "metadata": {
  "kernelspec": {
   "display_name": "Python 3",
   "language": "python",
   "name": "python3"
  },
  "language_info": {
   "codemirror_mode": {
    "name": "ipython",
    "version": 3
   },
   "file_extension": ".py",
   "mimetype": "text/x-python",
   "name": "python",
   "nbconvert_exporter": "python",
   "pygments_lexer": "ipython3",
   "version": "3.8.5"
  }
 },
 "nbformat": 4,
 "nbformat_minor": 5
}
